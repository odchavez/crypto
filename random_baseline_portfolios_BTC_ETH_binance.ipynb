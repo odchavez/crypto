{
 "cells": [
  {
   "cell_type": "markdown",
   "metadata": {},
   "source": [
    "To do: remove coins that have lack of history.  Many do not exist before 2021."
   ]
  },
  {
   "cell_type": "code",
   "execution_count": 1,
   "metadata": {},
   "outputs": [],
   "source": [
    "import portfolio_utils as pu\n",
    "import constants as c\n",
    "\n",
    "import numpy as np\n",
    "import pandas as pd\n",
    "import matplotlib.pyplot as plt\n",
    "\n",
    "import random\n",
    "\n",
    "from tqdm import tqdm\n",
    "\n",
    "pd.set_option('display.max_rows', None)\n",
    "pd.set_option(\"display.max_columns\", None)"
   ]
  },
  {
   "cell_type": "code",
   "execution_count": 2,
   "metadata": {},
   "outputs": [
    {
     "data": {
      "text/html": [
       "<div>\n",
       "<style scoped>\n",
       "    .dataframe tbody tr th:only-of-type {\n",
       "        vertical-align: middle;\n",
       "    }\n",
       "\n",
       "    .dataframe tbody tr th {\n",
       "        vertical-align: top;\n",
       "    }\n",
       "\n",
       "    .dataframe thead th {\n",
       "        text-align: right;\n",
       "    }\n",
       "</style>\n",
       "<table border=\"1\" class=\"dataframe\">\n",
       "  <thead>\n",
       "    <tr style=\"text-align: right;\">\n",
       "      <th></th>\n",
       "      <th>Open time</th>\n",
       "      <th>Open</th>\n",
       "      <th>High</th>\n",
       "      <th>Low</th>\n",
       "      <th>Close</th>\n",
       "      <th>Volume</th>\n",
       "      <th>Close time</th>\n",
       "      <th>Base asset volume</th>\n",
       "      <th>Number of trades</th>\n",
       "      <th>Taker buy volume</th>\n",
       "      <th>Taker buy base asset volume</th>\n",
       "      <th>Ignore</th>\n",
       "      <th>symbol</th>\n",
       "      <th>Open_time_</th>\n",
       "      <th>Close_time_</th>\n",
       "    </tr>\n",
       "  </thead>\n",
       "  <tbody>\n",
       "    <tr>\n",
       "      <th>26</th>\n",
       "      <td>1635292800000</td>\n",
       "      <td>4131.52</td>\n",
       "      <td>4307.00</td>\n",
       "      <td>3909.00</td>\n",
       "      <td>3922.00</td>\n",
       "      <td>704604.25000</td>\n",
       "      <td>1635379199999</td>\n",
       "      <td>2.874313e+09</td>\n",
       "      <td>1872190</td>\n",
       "      <td>342946.25220</td>\n",
       "      <td>1.399582e+09</td>\n",
       "      <td>0</td>\n",
       "      <td>ETHUSDT</td>\n",
       "      <td>2021-10-27</td>\n",
       "      <td>2021-10-27 23:59:59.999</td>\n",
       "    </tr>\n",
       "    <tr>\n",
       "      <th>27</th>\n",
       "      <td>1635379200000</td>\n",
       "      <td>3921.99</td>\n",
       "      <td>4295.00</td>\n",
       "      <td>3890.17</td>\n",
       "      <td>4286.02</td>\n",
       "      <td>626378.50550</td>\n",
       "      <td>1635465599999</td>\n",
       "      <td>2.587268e+09</td>\n",
       "      <td>1711575</td>\n",
       "      <td>331721.67970</td>\n",
       "      <td>1.370288e+09</td>\n",
       "      <td>0</td>\n",
       "      <td>ETHUSDT</td>\n",
       "      <td>2021-10-28</td>\n",
       "      <td>2021-10-28 23:59:59.999</td>\n",
       "    </tr>\n",
       "    <tr>\n",
       "      <th>28</th>\n",
       "      <td>1635465600000</td>\n",
       "      <td>4286.01</td>\n",
       "      <td>4460.47</td>\n",
       "      <td>4265.97</td>\n",
       "      <td>4418.89</td>\n",
       "      <td>559231.07691</td>\n",
       "      <td>1635551999999</td>\n",
       "      <td>2.440933e+09</td>\n",
       "      <td>1799386</td>\n",
       "      <td>299827.57771</td>\n",
       "      <td>1.309029e+09</td>\n",
       "      <td>0</td>\n",
       "      <td>ETHUSDT</td>\n",
       "      <td>2021-10-29</td>\n",
       "      <td>2021-10-29 23:59:59.999</td>\n",
       "    </tr>\n",
       "    <tr>\n",
       "      <th>29</th>\n",
       "      <td>1635552000000</td>\n",
       "      <td>4418.89</td>\n",
       "      <td>4434.06</td>\n",
       "      <td>4232.20</td>\n",
       "      <td>4322.68</td>\n",
       "      <td>340223.06900</td>\n",
       "      <td>1635638399999</td>\n",
       "      <td>1.469665e+09</td>\n",
       "      <td>1035476</td>\n",
       "      <td>164985.54250</td>\n",
       "      <td>7.127256e+08</td>\n",
       "      <td>0</td>\n",
       "      <td>ETHUSDT</td>\n",
       "      <td>2021-10-30</td>\n",
       "      <td>2021-10-30 23:59:59.999</td>\n",
       "    </tr>\n",
       "    <tr>\n",
       "      <th>30</th>\n",
       "      <td>1635638400000</td>\n",
       "      <td>4322.68</td>\n",
       "      <td>4399.14</td>\n",
       "      <td>4164.35</td>\n",
       "      <td>4287.21</td>\n",
       "      <td>412856.28930</td>\n",
       "      <td>1635724799999</td>\n",
       "      <td>1.764887e+09</td>\n",
       "      <td>1303438</td>\n",
       "      <td>207029.19300</td>\n",
       "      <td>8.855724e+08</td>\n",
       "      <td>0</td>\n",
       "      <td>ETHUSDT</td>\n",
       "      <td>2021-10-31</td>\n",
       "      <td>2021-10-31 23:59:59.999</td>\n",
       "    </tr>\n",
       "  </tbody>\n",
       "</table>\n",
       "</div>"
      ],
      "text/plain": [
       "        Open time     Open     High      Low    Close        Volume  \\\n",
       "26  1635292800000  4131.52  4307.00  3909.00  3922.00  704604.25000   \n",
       "27  1635379200000  3921.99  4295.00  3890.17  4286.02  626378.50550   \n",
       "28  1635465600000  4286.01  4460.47  4265.97  4418.89  559231.07691   \n",
       "29  1635552000000  4418.89  4434.06  4232.20  4322.68  340223.06900   \n",
       "30  1635638400000  4322.68  4399.14  4164.35  4287.21  412856.28930   \n",
       "\n",
       "       Close time  Base asset volume  Number of trades  Taker buy volume  \\\n",
       "26  1635379199999       2.874313e+09           1872190      342946.25220   \n",
       "27  1635465599999       2.587268e+09           1711575      331721.67970   \n",
       "28  1635551999999       2.440933e+09           1799386      299827.57771   \n",
       "29  1635638399999       1.469665e+09           1035476      164985.54250   \n",
       "30  1635724799999       1.764887e+09           1303438      207029.19300   \n",
       "\n",
       "    Taker buy base asset volume  Ignore   symbol Open_time_  \\\n",
       "26                 1.399582e+09       0  ETHUSDT 2021-10-27   \n",
       "27                 1.370288e+09       0  ETHUSDT 2021-10-28   \n",
       "28                 1.309029e+09       0  ETHUSDT 2021-10-29   \n",
       "29                 7.127256e+08       0  ETHUSDT 2021-10-30   \n",
       "30                 8.855724e+08       0  ETHUSDT 2021-10-31   \n",
       "\n",
       "               Close_time_  \n",
       "26 2021-10-27 23:59:59.999  \n",
       "27 2021-10-28 23:59:59.999  \n",
       "28 2021-10-29 23:59:59.999  \n",
       "29 2021-10-30 23:59:59.999  \n",
       "30 2021-10-31 23:59:59.999  "
      ]
     },
     "execution_count": 2,
     "metadata": {},
     "output_type": "execute_result"
    }
   ],
   "source": [
    "symbols = [\"BTCUSDT\",\"ETHUSDT\"]\n",
    "\n",
    "#Select Rebalance Dates in constants file\n",
    "\n",
    "\n",
    "#Portfolio Start and Stop Dates\n",
    "start=\"2018-01-01\" \n",
    "endp1=\"2021-11-01\"\n",
    "\n",
    "# some nice code curtesy of Kevin\n",
    "agg_data = list()\n",
    "\n",
    "crypto = pu.get_data(symbols, c.stems_btc_eth)#pd.read_csv(data_path)#, index_col=\"tradeDate\")\n",
    "\n",
    "crypto.tail()"
   ]
  },
  {
   "cell_type": "code",
   "execution_count": 3,
   "metadata": {},
   "outputs": [
    {
     "data": {
      "text/plain": [
       "['BTCUSDT', 'ETHUSDT']"
      ]
     },
     "execution_count": 3,
     "metadata": {},
     "output_type": "execute_result"
    }
   ],
   "source": [
    "symbols"
   ]
  },
  {
   "cell_type": "code",
   "execution_count": 4,
   "metadata": {},
   "outputs": [
    {
     "data": {
      "text/plain": [
       "(2800, 15)"
      ]
     },
     "execution_count": 4,
     "metadata": {},
     "output_type": "execute_result"
    }
   ],
   "source": [
    "crypto.shape"
   ]
  },
  {
   "cell_type": "code",
   "execution_count": 5,
   "metadata": {},
   "outputs": [
    {
     "data": {
      "text/html": [
       "<div>\n",
       "<style scoped>\n",
       "    .dataframe tbody tr th:only-of-type {\n",
       "        vertical-align: middle;\n",
       "    }\n",
       "\n",
       "    .dataframe tbody tr th {\n",
       "        vertical-align: top;\n",
       "    }\n",
       "\n",
       "    .dataframe thead th {\n",
       "        text-align: right;\n",
       "    }\n",
       "</style>\n",
       "<table border=\"1\" class=\"dataframe\">\n",
       "  <thead>\n",
       "    <tr style=\"text-align: right;\">\n",
       "      <th>symbol</th>\n",
       "      <th>BTCUSDT</th>\n",
       "      <th>ETHUSDT</th>\n",
       "    </tr>\n",
       "    <tr>\n",
       "      <th>tradeDate</th>\n",
       "      <th></th>\n",
       "      <th></th>\n",
       "    </tr>\n",
       "  </thead>\n",
       "  <tbody>\n",
       "    <tr>\n",
       "      <th>2018-01-02 23:59:59.999</th>\n",
       "      <td>0.096794</td>\n",
       "      <td>0.132836</td>\n",
       "    </tr>\n",
       "    <tr>\n",
       "      <th>2018-01-03 23:59:59.999</th>\n",
       "      <td>0.016654</td>\n",
       "      <td>0.092075</td>\n",
       "    </tr>\n",
       "    <tr>\n",
       "      <th>2018-01-04 23:59:59.999</th>\n",
       "      <td>0.009386</td>\n",
       "      <td>0.006392</td>\n",
       "    </tr>\n",
       "    <tr>\n",
       "      <th>2018-01-05 23:59:59.999</th>\n",
       "      <td>0.126222</td>\n",
       "      <td>0.020532</td>\n",
       "    </tr>\n",
       "    <tr>\n",
       "      <th>2018-01-06 23:59:59.999</th>\n",
       "      <td>0.006450</td>\n",
       "      <td>0.046711</td>\n",
       "    </tr>\n",
       "  </tbody>\n",
       "</table>\n",
       "</div>"
      ],
      "text/plain": [
       "symbol                    BTCUSDT   ETHUSDT\n",
       "tradeDate                                  \n",
       "2018-01-02 23:59:59.999  0.096794  0.132836\n",
       "2018-01-03 23:59:59.999  0.016654  0.092075\n",
       "2018-01-04 23:59:59.999  0.009386  0.006392\n",
       "2018-01-05 23:59:59.999  0.126222  0.020532\n",
       "2018-01-06 23:59:59.999  0.006450  0.046711"
      ]
     },
     "execution_count": 5,
     "metadata": {},
     "output_type": "execute_result"
    }
   ],
   "source": [
    "crypto_ = crypto[[\"Close_time_\", \"symbol\", \"Close\"]] #crypto_ = crypto[[\"tradeDate\", \"symbol\", \"avg_latest\"]]\n",
    "crypto_.columns=[\"tradeDate\", \"symbol\", \"Close\"]\n",
    "crypto_ = crypto_.pivot_table(index=\"tradeDate\", columns=\"symbol\", values = \"Close\")\n",
    "crypto2_ = crypto_.pct_change()\n",
    "crypto2_ = crypto2_[1:]\n",
    "crypto2_.head()"
   ]
  },
  {
   "cell_type": "code",
   "execution_count": null,
   "metadata": {},
   "outputs": [],
   "source": []
  },
  {
   "cell_type": "code",
   "execution_count": null,
   "metadata": {},
   "outputs": [],
   "source": []
  },
  {
   "cell_type": "code",
   "execution_count": null,
   "metadata": {},
   "outputs": [
    {
     "name": "stderr",
     "output_type": "stream",
     "text": [
      " 53%|█████▎    | 5299/10000 [52:30<48:09,  1.63it/s]  "
     ]
    }
   ],
   "source": [
    "sim_sum=10000\n",
    "initial_investment = 10000\n",
    "#potfolio_SR = np.zeros(sim_sum)\n",
    "a = np.zeros(((sim_sum,len(symbols))))\n",
    "portfolio_df = pd.DataFrame(a)\n",
    "portfolio_df.columns = symbols\n",
    "portfolio_df[\"Portfolio_SR\"] = -999\n",
    "\n",
    "for i in tqdm(range(sim_sum)):\n",
    "    symbol_count = random.randint(2,len(symbols))\n",
    "    symbol_sublist = random.sample(symbols, symbol_count)\n",
    "    portfolio_weights = np.random.dirichlet(np.ones(symbol_count))\n",
    "\n",
    "    df = crypto2_[symbol_sublist]\n",
    "    clean_return_history = df.reset_index(drop=True)\n",
    "    clean_return_history['date']=pu.date_cleaner(pd.Series(crypto2_.index.values).astype(str))\n",
    "    \n",
    "    # Instantiate the portfolio object\n",
    "    portfolio_obj = pu.Portfolio(\n",
    "        data=clean_return_history, \n",
    "        symbols=symbol_sublist, \n",
    "        weights=portfolio_weights, \n",
    "        initial_investment=initial_investment,\n",
    "        start_date=start,\n",
    "        end_date=endp1, \n",
    "        rebalance_dates=c.rebalance_dates)\n",
    "    # estimate returns\n",
    "    portfolio_obj.estimate_portfolio_returns()\n",
    "    #print(portfolio_obj.get_sharpe_report())\n",
    "    portfolio_df.loc[i,symbol_sublist] = portfolio_weights\n",
    "    portfolio_df.loc[i,\"Portfolio_SR\"] = portfolio_obj.get_sharpe_ratio()\n",
    "portfolio_df.to_csv(\n",
    "    \"data/random_portfolios_\"+min(crypto.Close_time_.astype(str))+\"_to_\"+max(crypto.Close_time_.astype(str))+\".csv\", index=False)"
   ]
  },
  {
   "cell_type": "code",
   "execution_count": null,
   "metadata": {},
   "outputs": [],
   "source": [
    "# equal weight portfolio\n",
    "portfolio_weights = np.ones(len(symbols))/len(symbols)\n",
    "\n",
    "df = crypto2_[symbols]\n",
    "clean_return_history = df.reset_index(drop=True)\n",
    "clean_return_history['date']=pu.date_cleaner(pd.Series(crypto2_.index.values).astype(str))\n",
    "\n",
    "# Instantiate the portfolio object\n",
    "portfolio_obj = pu.Portfolio(\n",
    "    data=clean_return_history, \n",
    "    symbols=symbols, \n",
    "    weights=portfolio_weights, \n",
    "    initial_investment=initial_investment,\n",
    "    start_date=start,\n",
    "    end_date=endp1, \n",
    "    rebalance_dates=c.rebalance_dates)\n",
    "# estimate returns\n",
    "portfolio_obj.estimate_portfolio_returns()\n",
    "#print(portfolio_obj.get_sharpe_report())\n",
    "\n",
    "equal_wt_SR = portfolio_obj.get_sharpe_ratio()\n",
    "equal_wt_SR"
   ]
  },
  {
   "cell_type": "code",
   "execution_count": null,
   "metadata": {},
   "outputs": [],
   "source": [
    "#clean_return_history\n",
    "ind_SR = np.sqrt(365)*np.mean(crypto2_, axis=0)/np.std(crypto2_, axis=0)\n",
    "_=plt.hist(portfolio_df[\"Portfolio_SR\"], label=\"Portfolio SR's\", density=True)\n",
    "plt.vlines(x=ind_SR[symbols],ymin=0, ymax=.1, color=\"red\", label=\"individual SR's\")\n",
    "plt.axvline(equal_wt_SR, label=\"equal weight portfolio\", color='black')\n",
    "plt.axvline(2.04, label=\"S&P 500\",color='pink')\n",
    "\n",
    "_=plt.legend()\n",
    "plt.suptitle(\"Portfolio Sharpe Ratios\")\n",
    "plt.title(\"BTCUSDT, ETHUSDT\")"
   ]
  },
  {
   "cell_type": "code",
   "execution_count": null,
   "metadata": {},
   "outputs": [],
   "source": [
    "portfolio_df.loc[portfolio_df.Portfolio_SR>max(ind_SR[symbols]),:].shape"
   ]
  },
  {
   "cell_type": "code",
   "execution_count": null,
   "metadata": {},
   "outputs": [],
   "source": [
    "portfolio_df.sort_values(by=['Portfolio_SR'],ascending=False).head(500)"
   ]
  },
  {
   "cell_type": "code",
   "execution_count": null,
   "metadata": {},
   "outputs": [],
   "source": [
    "crypto2_.head()"
   ]
  },
  {
   "cell_type": "code",
   "execution_count": null,
   "metadata": {},
   "outputs": [],
   "source": []
  },
  {
   "cell_type": "code",
   "execution_count": null,
   "metadata": {},
   "outputs": [],
   "source": []
  },
  {
   "cell_type": "code",
   "execution_count": null,
   "metadata": {},
   "outputs": [],
   "source": []
  },
  {
   "cell_type": "code",
   "execution_count": null,
   "metadata": {},
   "outputs": [],
   "source": []
  },
  {
   "cell_type": "code",
   "execution_count": null,
   "metadata": {},
   "outputs": [],
   "source": []
  },
  {
   "cell_type": "code",
   "execution_count": null,
   "metadata": {},
   "outputs": [],
   "source": []
  }
 ],
 "metadata": {
  "kernelspec": {
   "display_name": "Python 3",
   "language": "python",
   "name": "python3"
  },
  "language_info": {
   "codemirror_mode": {
    "name": "ipython",
    "version": 3
   },
   "file_extension": ".py",
   "mimetype": "text/x-python",
   "name": "python",
   "nbconvert_exporter": "python",
   "pygments_lexer": "ipython3",
   "version": "3.8.3"
  }
 },
 "nbformat": 4,
 "nbformat_minor": 4
}
