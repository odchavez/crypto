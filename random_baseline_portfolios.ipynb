{
 "cells": [
  {
   "cell_type": "code",
   "execution_count": 11,
   "metadata": {},
   "outputs": [],
   "source": [
    "import portfolio_utils as pu\n",
    "\n",
    "import numpy as np\n",
    "import pandas as pd\n",
    "import matplotlib.pyplot as plt\n",
    "\n",
    "import random\n",
    "\n",
    "from tqdm import tqdm\n",
    "\n",
    "pd.set_option('display.max_columns', None)"
   ]
  },
  {
   "cell_type": "code",
   "execution_count": 2,
   "metadata": {},
   "outputs": [],
   "source": [
    "#Select Rebalance Dates\n",
    "rebalance_dates = [\n",
    "    \"2021-01-01\",\"2021-02-01\",\"2021-03-01\",\n",
    "    \"2021-04-01\",\"2021-05-01\",\"2021-06-01\",\n",
    "    \"2021-07-01\",\"2021-08-01\",\"2021-09-01\",\n",
    "    \"2021-10-01\",\"2021-11-01\",\"2021-12-01\",]\n",
    "#Portfolio Start and Stop Dates\n",
    "start=\"2021-02-20\" \n",
    "endp1=\"2021-08-26\"\n",
    "\n",
    "\n",
    "\n",
    "\n",
    "# some nice code curtesy of Kevin\n",
    "agg_data = list()\n",
    "data_path = \"data/crypto_USDT.csv\"\n",
    "crypto_ = pd.read_csv(data_path, index_col=\"tradeDate\")\n",
    "#crypto_ = crypto[[\"tradeDate\", \"symbol\", \"avg_latest\"]]\n",
    "#crypto_ = crypto_.pivot_table(index=\"tradeDate\", columns=\"symbol\", values = \"avg_latest\")\n",
    "crypto2_ = crypto_.pct_change()\n",
    "crypto2_ = crypto2_[3:]\n"
   ]
  },
  {
   "cell_type": "code",
   "execution_count": 3,
   "metadata": {},
   "outputs": [],
   "source": [
    "#list(crypto_.columns)"
   ]
  },
  {
   "cell_type": "code",
   "execution_count": null,
   "metadata": {},
   "outputs": [],
   "source": []
  },
  {
   "cell_type": "code",
   "execution_count": 4,
   "metadata": {},
   "outputs": [
    {
     "name": "stderr",
     "output_type": "stream",
     "text": [
      "100%|██████████| 100000/100000 [2:23:51<00:00, 11.59it/s]  \n"
     ]
    }
   ],
   "source": [
    "sim_sum=100000\n",
    "initial_investment = 10000\n",
    "symbols = [\n",
    "    \"BTCUSDT\", \n",
    "    \"ETHUSDT\", \n",
    "    \"ADAUSDT\", \n",
    "    \"BNBUSDT\", \n",
    "    \"SOLUSDT\", \n",
    "    \"DOTUSDT\", \n",
    "    \"UNIUSDT\", \n",
    "    \"LTCUSDT\",\n",
    "    \"LINKUSDT\",\n",
    "    \"MATICUSDT\",\n",
    "    \"FILUSDT\",\n",
    "    \"AVAXUSDT\",\n",
    "    \"VETUSDT\",\n",
    "    \"XLMUSDT\",\n",
    "    \"TRXUSDT\",\n",
    "    \"EOSUSDT\",\n",
    "    \"XMRUSDT\",\n",
    "    \"ATOMUSDT\",\n",
    "    \"AAVEUSDT\",\n",
    "    #\"CAKEUSDT\",\n",
    "    #\"MIOTAUSDT\",\n",
    "    #\"GRTUSDT\",\n",
    "]\n",
    "potfolio_SR = np.zeros(sim_sum)\n",
    "a = np.zeros(((sim_sum,len(symbols))))\n",
    "portfolio_df = pd.DataFrame(a)\n",
    "portfolio_df.columns = symbols\n",
    "portfolio_df[\"Portfolio_SR\"] = -999\n",
    "\n",
    "for i in tqdm(range(sim_sum)):\n",
    "    symbol_count = random.randint(2,len(symbols))\n",
    "    symbol_sublist = random.sample(symbols, symbol_count)\n",
    "    portfolio_weights = np.random.dirichlet(np.ones(symbol_count))\n",
    "\n",
    "    df = crypto2_[symbol_sublist]\n",
    "    clean_return_history = df.reset_index(drop=True)\n",
    "    clean_return_history['date']=pu.date_cleaner(crypto2_.index)\n",
    "    \n",
    "    # Instantiate the portfolio object\n",
    "    portfolio_obj = pu.Portfolio(\n",
    "        data=clean_return_history, \n",
    "        symbols=symbol_sublist, \n",
    "        weights=portfolio_weights, \n",
    "        initial_investment=initial_investment,\n",
    "        start_date=start,\n",
    "        end_date=endp1, \n",
    "        rebalance_dates=rebalance_dates)\n",
    "    # estimate returns\n",
    "    portfolio_obj.estimate_portfolio_returns()\n",
    "    #print(portfolio_obj.get_sharpe_report())\n",
    "    portfolio_df.loc[i,symbol_sublist] = portfolio_weights\n",
    "    portfolio_df.loc[i,\"Portfolio_SR\"] = portfolio_obj.get_sharpe_ratio()\n",
    "portfolio_df.to_csv(\"data/random_portfolios.csv\", index=False)"
   ]
  },
  {
   "cell_type": "code",
   "execution_count": 5,
   "metadata": {},
   "outputs": [
    {
     "data": {
      "text/plain": [
       "Text(0.5, 1.0, 'Random Portfolios')"
      ]
     },
     "execution_count": 5,
     "metadata": {},
     "output_type": "execute_result"
    },
    {
     "data": {
      "image/png": "[encoded data removed]",
      "text/plain": [
       "<Figure size 432x288 with 1 Axes>"
      ]
     },
     "metadata": {
      "needs_background": "light"
     },
     "output_type": "display_data"
    }
   ],
   "source": [
    "#clean_return_history\n",
    "ind_SR = np.sqrt(365)*np.mean(crypto2_, axis=0)/np.std(crypto2_, axis=0)\n",
    "_=plt.hist(portfolio_df[\"Portfolio_SR\"], label=\"Portfolio SR's\", density=True)\n",
    "plt.vlines(x=ind_SR[symbols],ymin=0, ymax=.1, color=\"red\", label=\"individual SR's\")\n",
    "_=plt.legend()\n",
    "plt.title(\"Random Portfolios\")"
   ]
  },
  {
   "cell_type": "code",
   "execution_count": 10,
   "metadata": {},
   "outputs": [
    {
     "data": {
      "text/plain": [
       "(285, 20)"
      ]
     },
     "execution_count": 10,
     "metadata": {},
     "output_type": "execute_result"
    }
   ],
   "source": [
    "portfolio_df.loc[portfolio_df.Portfolio_SR>max(ind_SR[symbols]),:].shape"
   ]
  },
  {
   "cell_type": "code",
   "execution_count": null,
   "metadata": {},
   "outputs": [],
   "source": []
  },
  {
   "cell_type": "code",
   "execution_count": null,
   "metadata": {},
   "outputs": [],
   "source": []
  }
 ],
 "metadata": {
  "kernelspec": {
   "display_name": "Python 3",
   "language": "python",
   "name": "python3"
  },
  "language_info": {
   "codemirror_mode": {
    "name": "ipython",
    "version": 3
   },
   "file_extension": ".py",
   "mimetype": "text/x-python",
   "name": "python",
   "nbconvert_exporter": "python",
   "pygments_lexer": "ipython3",
   "version": "3.8.3"
  }
 },
 "nbformat": 4,
 "nbformat_minor": 4
}
